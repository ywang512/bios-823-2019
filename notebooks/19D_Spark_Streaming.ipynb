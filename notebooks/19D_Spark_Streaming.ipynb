{
 "cells": [
  {
   "cell_type": "markdown",
   "metadata": {},
   "source": [
    "# Spark Streaming"
   ]
  },
  {
   "cell_type": "code",
   "execution_count": null,
   "metadata": {},
   "outputs": [],
   "source": [
    "import string\n",
    "from pyspark.sql import SparkSession\n",
    "from pyspark.streaming import StreamingContext"
   ]
  },
  {
   "cell_type": "code",
   "execution_count": null,
   "metadata": {},
   "outputs": [],
   "source": [
    "spark = (\n",
    "    SparkSession.builder \n",
    "    .master(\"local\") \n",
    "    .appName(\"BIOS-823\") \n",
    "    .config(\"spark.executor.cores\", 4) \n",
    "    .getOrCreate()    \n",
    ")"
   ]
  },
  {
   "cell_type": "markdown",
   "metadata": {},
   "source": [
    "## Low level API"
   ]
  },
  {
   "cell_type": "markdown",
   "metadata": {},
   "source": [
    "### Window operations\n",
    "\n",
    "![img](https://spark.apache.org/docs/latest/img/streaming-dstream-window.png)\n",
    "Source: https://spark.apache.org/docs/latest/img/streaming-dstream-window.png\n",
    "\n",
    "```python\n",
    "window()\n",
    "countByWindow()\n",
    "reduceByWindow()\n",
    "reduceByKeyAndWindow()\n",
    "countByValueAndWindow()\n",
    "```"
   ]
  },
  {
   "cell_type": "code",
   "execution_count": null,
   "metadata": {},
   "outputs": [],
   "source": [
    "sc = spark.sparkContext\n",
    "ssc = StreamingContext(sc, 1)\n",
    "ssc.checkpoint('checkpoints')"
   ]
  },
  {
   "cell_type": "code",
   "execution_count": null,
   "metadata": {
    "scrolled": false
   },
   "outputs": [],
   "source": [
    "lines = ssc.textFileStream('data/inputs')\n",
    "windows = (\n",
    "    lines.map(lambda line: line.translate(\n",
    "        str.maketrans('', '', string.punctuation))).\n",
    "    flatMap(lambda line: line.split()).\n",
    "    map(lambda word: (word, 1)).\n",
    "    reduceByKeyAndWindow(\n",
    "        lambda a, b: a + b,\n",
    "        lambda a, b: a - b,\n",
    "        windowDuration=10, \n",
    "        slideDuration=5)\n",
    ")\n",
    "windows.pprint()\n",
    "\n",
    "ssc.start()\n",
    "ssc.awaitTerminationOrTimeout(60)"
   ]
  },
  {
   "cell_type": "code",
   "execution_count": null,
   "metadata": {},
   "outputs": [],
   "source": []
  }
 ],
 "metadata": {
  "kernelspec": {
   "display_name": "Python 3",
   "language": "python",
   "name": "python3"
  },
  "language_info": {
   "codemirror_mode": {
    "name": "ipython",
    "version": 3
   },
   "file_extension": ".py",
   "mimetype": "text/x-python",
   "name": "python",
   "nbconvert_exporter": "python",
   "pygments_lexer": "ipython3",
   "version": "3.7.4"
  }
 },
 "nbformat": 4,
 "nbformat_minor": 2
}
