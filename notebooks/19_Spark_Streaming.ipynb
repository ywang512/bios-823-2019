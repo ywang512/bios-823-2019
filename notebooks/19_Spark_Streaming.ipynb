{
 "cells": [
  {
   "cell_type": "markdown",
   "metadata": {},
   "source": [
    "# Spark Streaming"
   ]
  },
  {
   "cell_type": "markdown",
   "metadata": {},
   "source": [
    "![img](https://spark.apache.org/docs/latest/img/streaming-arch.png)\n",
    "\n",
    "Source: https://spark.apache.org/docs/latest/img/streaming-arch.png"
   ]
  },
  {
   "cell_type": "markdown",
   "metadata": {},
   "source": [
    "## Low level API"
   ]
  },
  {
   "cell_type": "markdown",
   "metadata": {},
   "source": [
    "![img](https://d2h0cx97tjks2p.cloudfront.net/blogs/wp-content/uploads/sites/2/2017/06/apache-spark-dstream-1.jpg)\n",
    "\n",
    "Source: https://d2h0cx97tjks2p.cloudfront.net/blogs/wp-content/uploads/sites/2/2017/06/apache-spark-dstream-1.jpg"
   ]
  },
  {
   "cell_type": "markdown",
   "metadata": {},
   "source": [
    "### State\n",
    "\n",
    "![img](https://jaceklaskowski.gitbooks.io/spark-streaming/images/spark-streaming-updateStateByKey.png)\n",
    "Source: https://jaceklaskowski.gitbooks.io/spark-streaming/images/spark-streaming-updateStateByKey.png"
   ]
  },
  {
   "cell_type": "markdown",
   "metadata": {},
   "source": [
    "### Window operations\n",
    "\n",
    "![img](https://spark.apache.org/docs/latest/img/streaming-dstream-window.png)\n",
    "Source: https://spark.apache.org/docs/latest/img/streaming-dstream-window.png\n",
    "\n",
    "```python\n",
    "window()\n",
    "countByWindow()\n",
    "reduceByWindow()\n",
    "reduceByKeyAndWindow()\n",
    "countByValueAndWindow()\n",
    "```"
   ]
  },
  {
   "cell_type": "markdown",
   "metadata": {},
   "source": [
    "## High level API"
   ]
  },
  {
   "cell_type": "markdown",
   "metadata": {},
   "source": [
    "\n",
    "![img](https://tse2.mm.bing.net/th?id=OIP.sMrdnOlx6YJdnl6DU8RyswHaDz&pid=Api&w=1037&h=533&rs=1&p=0)\n",
    "\n",
    "Reference: [Structured Streaming Programming Guide](https://spark.apache.org/docs/latest/structured-streaming-programming-guide.html)"
   ]
  },
  {
   "cell_type": "markdown",
   "metadata": {},
   "source": [
    "![img](https://spark.apache.org/docs/latest/img/structured-streaming-model.png)\n",
    "Source: https://spark.apache.org/docs/latest/img/structured-streaming-model.png"
   ]
  },
  {
   "cell_type": "markdown",
   "metadata": {},
   "source": [
    "### Output modes\n",
    "\n",
    "![img](https://image.slidesharecdn.com/062018julesdamji-190508001044/95/writing-continuous-applications-with-structured-streaming-pyspark-api-29-638.jpg?cb=1557274357)\n",
    "Source: https://image.slidesharecdn.com/062018julesdamji-190508001044/95/writing-continuous-applications-with-structured-streaming-pyspark-api-29-638.jpg?cb=1557274357"
   ]
  }
 ],
 "metadata": {
  "kernelspec": {
   "display_name": "Python 3",
   "language": "python",
   "name": "python3"
  },
  "language_info": {
   "codemirror_mode": {
    "name": "ipython",
    "version": 3
   },
   "file_extension": ".py",
   "mimetype": "text/x-python",
   "name": "python",
   "nbconvert_exporter": "python",
   "pygments_lexer": "ipython3",
   "version": "3.7.4"
  }
 },
 "nbformat": 4,
 "nbformat_minor": 2
}
